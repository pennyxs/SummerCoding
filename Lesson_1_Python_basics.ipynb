{
  "cells": [
    {
      "cell_type": "markdown",
      "id": "65297d5d",
      "metadata": {
        "id": "65297d5d"
      },
      "source": [
        "## Lesson 1 - Python basics\n",
        "In this lesson we will cover:\n",
        "- What is a variable and how to declare it\n",
        "- Python basic operators\n",
        "- Data types in Python\n",
        "- Lists\n",
        "- Dictionaries\n",
        "- Tuples\n",
        "- Optional exercises\n",
        "\n",
        "All along the lessons you will see comments on the code starting with `#`, these are comment lines and are used to describe what the code is doing"
      ]
    },
    {
      "cell_type": "markdown",
      "id": "d927a42b",
      "metadata": {
        "id": "d927a42b"
      },
      "source": [
        "## What is a variable?\n",
        "\n",
        "Imagine variables as containers to store data values.\n",
        "We can asign values to these containers using the `=` sign."
      ]
    },
    {
      "cell_type": "code",
      "execution_count": null,
      "id": "d273a7b9",
      "metadata": {
        "id": "d273a7b9"
      },
      "outputs": [],
      "source": [
        "# Here we assign a to 4, and A to \"Python\"\n",
        "a = 4\n",
        "A = \"Python\""
      ]
    },
    {
      "cell_type": "code",
      "execution_count": null,
      "id": "c6a73ac0",
      "metadata": {
        "id": "c6a73ac0",
        "outputId": "ea9c0cd1-c4cd-445c-b7d0-b039c8c89f37"
      },
      "outputs": [
        {
          "name": "stdout",
          "output_type": "stream",
          "text": [
            "4\n",
            "Python\n"
          ]
        }
      ],
      "source": [
        "# Print the variables\n",
        "print(a)\n",
        "print(A)"
      ]
    },
    {
      "cell_type": "markdown",
      "id": "a800cba9",
      "metadata": {
        "id": "a800cba9"
      },
      "source": [
        "From the example above we can see that variables are case sensitive, so a variable named `Variable` will be different from another one called `variable`.\n",
        "Variable names can consist of uppercase and lowercase letters, digits and underscore. The first character of a variable name cannot be a digit"
      ]
    },
    {
      "cell_type": "code",
      "execution_count": null,
      "id": "36e9c3df",
      "metadata": {
        "id": "36e9c3df",
        "outputId": "0cd61143-b4d3-43b2-dbb6-e5a93353ec5e"
      },
      "outputs": [
        {
          "name": "stdout",
          "output_type": "stream",
          "text": [
            "55\n",
            "49\n"
          ]
        }
      ],
      "source": [
        "Variable = 55\n",
        "variable = 49\n",
        "print(Variable)\n",
        "print(variable)"
      ]
    },
    {
      "cell_type": "code",
      "execution_count": null,
      "id": "3ade135f",
      "metadata": {
        "id": "3ade135f",
        "outputId": "ef274fab-8536-4702-a571-5613d891e061"
      },
      "outputs": [
        {
          "ename": "SyntaxError",
          "evalue": "invalid decimal literal (785943242.py, line 2)",
          "output_type": "error",
          "traceback": [
            "\u001b[1;36m  Input \u001b[1;32mIn [10]\u001b[1;36m\u001b[0m\n\u001b[1;33m    1_variable = \"Hi\" #invalid variable name, will throw an error\u001b[0m\n\u001b[1;37m     ^\u001b[0m\n\u001b[1;31mSyntaxError\u001b[0m\u001b[1;31m:\u001b[0m invalid decimal literal\n"
          ]
        }
      ],
      "source": [
        "a_variable = \"Hello\"\n",
        "1_variable = \"Hi\" #invalid variable name, will throw an error"
      ]
    },
    {
      "cell_type": "markdown",
      "id": "c31ad403",
      "metadata": {
        "id": "c31ad403"
      },
      "source": [
        "### Reserved words in Python\n",
        "For variable names:\n",
        "- We can use number, letters and underscores\n",
        "- Variables can include numbers, but not as the first character\n",
        "- There are some reserverd words in Python that cannot be used as variable names:\n",
        "\n",
        "`False\tdef\tif\traise\n",
        "None\tdel\timport\treturn\n",
        "True\telif\tin\ttry\n",
        "and\telse\tis\twhile\n",
        "as\texcept\tlambda\twith\n",
        "assert\tfinally\tnonlocal\tyield\n",
        "break\tfor\tnot\t\n",
        "class\tfrom\tor\t\n",
        "continue\tglobal\tpass`\n",
        "\n",
        "You can see this list any time by typing `help(\"keywords\")"
      ]
    },
    {
      "cell_type": "code",
      "execution_count": null,
      "id": "9e951328",
      "metadata": {
        "id": "9e951328",
        "outputId": "42b80aea-2fd4-46c0-b5e0-9229fda287d9"
      },
      "outputs": [
        {
          "name": "stdout",
          "output_type": "stream",
          "text": [
            "\n",
            "Here is a list of the Python keywords.  Enter any keyword to get more help.\n",
            "\n",
            "False               class               from                or\n",
            "None                continue            global              pass\n",
            "True                def                 if                  raise\n",
            "and                 del                 import              return\n",
            "as                  elif                in                  try\n",
            "assert              else                is                  while\n",
            "async               except              lambda              with\n",
            "await               finally             nonlocal            yield\n",
            "break               for                 not                 \n",
            "\n"
          ]
        }
      ],
      "source": [
        "help(\"keywords\")"
      ]
    },
    {
      "cell_type": "markdown",
      "id": "2ecace5e",
      "metadata": {
        "id": "2ecace5e"
      },
      "source": [
        "## Operators\n",
        "We now know how to create variables. Lets explore the basic operators in Python. Operators are special symbols in Python that carry out arithmetic or logical computations\n",
        "\n",
        "Arithmetic operators are used to perform mathematical operations like addition, substraction, multiplication, etc\n",
        "\n",
        "| Symbol | Operator | Description |\n",
        "|--------|----------|-------------|\n",
        "|   +    | Addition |  Add two operands |\n",
        "| - | Substraction | Substract two operands |\n",
        "| * | Multiplication | Multiply two operands |\n",
        "| / | Division | Divide two operands |\n",
        "| % | Modulus | Remainder of the division of left operand by the right |\n",
        "| // | Floor division |  Division that results into whole number adjusted to the left in the number line |\n",
        "| ** | Exponent | Left operand raised to the power of right |"
      ]
    },
    {
      "cell_type": "markdown",
      "id": "eb521890",
      "metadata": {
        "id": "eb521890"
      },
      "source": [
        "## Types\n",
        "Each variable can be of a particular type, but this type does not needs to be declared when you create the variable, and can even be changed after they have been set"
      ]
    },
    {
      "cell_type": "code",
      "execution_count": null,
      "id": "f1ce33e5",
      "metadata": {
        "id": "f1ce33e5",
        "outputId": "d9c5a7b5-c609-4746-c4e4-624c462283ef"
      },
      "outputs": [
        {
          "name": "stdout",
          "output_type": "stream",
          "text": [
            "100\n"
          ]
        }
      ],
      "source": [
        "n = 100 #variable of type integer\n",
        "print(n)"
      ]
    },
    {
      "cell_type": "code",
      "execution_count": null,
      "id": "9ba75bd0",
      "metadata": {
        "id": "9ba75bd0",
        "outputId": "2fd78292-d391-48c6-bfd0-e474383e9291"
      },
      "outputs": [
        {
          "name": "stdout",
          "output_type": "stream",
          "text": [
            "Now Im a different variable, of type string\n"
          ]
        }
      ],
      "source": [
        "n = \"Now Im a different variable, of type string\"\n",
        "print(n)"
      ]
    },
    {
      "cell_type": "code",
      "execution_count": null,
      "id": "643fc42f",
      "metadata": {
        "id": "643fc42f",
        "outputId": "864fa933-da86-4c08-b4a9-7d028ceaad7c"
      },
      "outputs": [
        {
          "name": "stdout",
          "output_type": "stream",
          "text": [
            "300 300 300\n"
          ]
        }
      ],
      "source": [
        "#Python also allows for chained variable assignments\n",
        "a = b = c = 300\n",
        "print(a, b, c)"
      ]
    },
    {
      "cell_type": "markdown",
      "id": "e4e0ed01",
      "metadata": {
        "id": "e4e0ed01"
      },
      "source": [
        "Python is a highly object-oriented language. Every itme of data in Python is an object of a specific type or class. Consider the following code. Python does the following:\n",
        "- Create a integer object\n",
        "- Gives a value of 300\n",
        "- Displays it to the console"
      ]
    },
    {
      "cell_type": "code",
      "execution_count": null,
      "id": "a62138f0",
      "metadata": {
        "id": "a62138f0",
        "outputId": "487fab80-136f-4d7c-db28-1b5807e49d4c"
      },
      "outputs": [
        {
          "name": "stdout",
          "output_type": "stream",
          "text": [
            "100\n"
          ]
        }
      ],
      "source": [
        "print(100)"
      ]
    },
    {
      "cell_type": "markdown",
      "id": "85e49441",
      "metadata": {
        "id": "85e49441"
      },
      "source": [
        "To see the actual integer object you can use the `type()` function"
      ]
    },
    {
      "cell_type": "code",
      "execution_count": null,
      "id": "5cbda040",
      "metadata": {
        "id": "5cbda040",
        "outputId": "41c6dbeb-e71b-446d-fa32-3be09aad6afc"
      },
      "outputs": [
        {
          "data": {
            "text/plain": [
              "int"
            ]
          },
          "execution_count": 6,
          "metadata": {},
          "output_type": "execute_result"
        }
      ],
      "source": [
        "type(100)"
      ]
    },
    {
      "cell_type": "markdown",
      "id": "64edd62c",
      "metadata": {
        "id": "64edd62c"
      },
      "source": [
        "## Basic Data Types\n",
        "- Numeric (integer numbers, floating point)\n",
        "- String (letters, characters)\n",
        "- Boolean (True or False, 0 or 1)"
      ]
    },
    {
      "cell_type": "markdown",
      "id": "2f8cd151",
      "metadata": {
        "id": "2f8cd151"
      },
      "source": [
        "### Integers\n",
        "An integer value can be as big as you need it to be, this is only constrained by the amount of memory in the system. Python will interpret a sequence of decimal digits without any prefix to be a decimal number:"
      ]
    },
    {
      "cell_type": "code",
      "execution_count": null,
      "id": "46402c16",
      "metadata": {
        "id": "46402c16",
        "outputId": "d3aa66aa-93df-4885-8304-f845c55cb645"
      },
      "outputs": [
        {
          "name": "stdout",
          "output_type": "stream",
          "text": [
            "123456789123456789123456789123456789123456789123456789123456789123456789123456789123456789\n"
          ]
        }
      ],
      "source": [
        "print(123456789123456789123456789123456789123456789123456789123456789123456789123456789123456789)"
      ]
    },
    {
      "cell_type": "code",
      "execution_count": null,
      "id": "2698b8d4",
      "metadata": {
        "id": "2698b8d4",
        "outputId": "88052ae1-064a-4459-e343-25f3b069820b"
      },
      "outputs": [
        {
          "name": "stdout",
          "output_type": "stream",
          "text": [
            "10\n"
          ]
        }
      ],
      "source": [
        "print(10)"
      ]
    },
    {
      "cell_type": "code",
      "execution_count": null,
      "id": "fa03d0d3",
      "metadata": {
        "id": "fa03d0d3",
        "outputId": "b01b9732-3396-4bc7-f24e-29cff8e4291f"
      },
      "outputs": [
        {
          "name": "stdout",
          "output_type": "stream",
          "text": [
            "2\n",
            "8\n",
            "16\n"
          ]
        }
      ],
      "source": [
        "#Binary representation\n",
        "#use 0b prefix\n",
        "print(0b10)\n",
        "\n",
        "#Octal representation\n",
        "#use 0O prefix\n",
        "print(0O10)\n",
        "\n",
        "#Hexadecimal representation\n",
        "#use 0X prefix\n",
        "print(0X10)"
      ]
    },
    {
      "cell_type": "code",
      "execution_count": null,
      "id": "36a83fc0",
      "metadata": {
        "id": "36a83fc0",
        "outputId": "41b60c16-d072-4c1b-fb27-f5b04bad0822"
      },
      "outputs": [
        {
          "data": {
            "text/plain": [
              "int"
            ]
          },
          "execution_count": 16,
          "metadata": {},
          "output_type": "execute_result"
        }
      ],
      "source": [
        "#The data type is still integer\n",
        "type(0b10)"
      ]
    },
    {
      "cell_type": "code",
      "execution_count": null,
      "id": "7e26ec9e",
      "metadata": {
        "id": "7e26ec9e",
        "outputId": "fa160746-47ee-4027-8773-f7eac1bdd279"
      },
      "outputs": [
        {
          "data": {
            "text/plain": [
              "int"
            ]
          },
          "execution_count": 17,
          "metadata": {},
          "output_type": "execute_result"
        }
      ],
      "source": [
        "type(0O10)"
      ]
    },
    {
      "cell_type": "code",
      "execution_count": null,
      "id": "3e11bb06",
      "metadata": {
        "id": "3e11bb06",
        "outputId": "47988182-e915-47be-8a73-b882f48f44de"
      },
      "outputs": [
        {
          "data": {
            "text/plain": [
              "int"
            ]
          },
          "execution_count": 18,
          "metadata": {},
          "output_type": "execute_result"
        }
      ],
      "source": [
        "type(0X10)"
      ]
    },
    {
      "cell_type": "markdown",
      "id": "9fe061d9",
      "metadata": {
        "id": "9fe061d9"
      },
      "source": [
        "### Floating point numbers\n",
        "The `float` type designates a floating-point number, which specifies a decimal point. This can also represent scientific notation using the character `e` or `E`"
      ]
    },
    {
      "cell_type": "code",
      "execution_count": null,
      "id": "96c151b0",
      "metadata": {
        "id": "96c151b0",
        "outputId": "56b19e9e-2e98-45f9-9c2f-21b01b2c70a8"
      },
      "outputs": [
        {
          "data": {
            "text/plain": [
              "3.14"
            ]
          },
          "execution_count": 19,
          "metadata": {},
          "output_type": "execute_result"
        }
      ],
      "source": [
        "3.14"
      ]
    },
    {
      "cell_type": "code",
      "execution_count": null,
      "id": "689dee34",
      "metadata": {
        "id": "689dee34",
        "outputId": "da28ed44-3a0b-46c9-cbbd-ef58dcc4bb3b"
      },
      "outputs": [
        {
          "data": {
            "text/plain": [
              "float"
            ]
          },
          "execution_count": 20,
          "metadata": {},
          "output_type": "execute_result"
        }
      ],
      "source": [
        "type(3.14)"
      ]
    },
    {
      "cell_type": "code",
      "execution_count": null,
      "id": "8a599c7a",
      "metadata": {
        "id": "8a599c7a",
        "outputId": "2e8fad89-885e-408a-b0d0-ae6f892486b5"
      },
      "outputs": [
        {
          "data": {
            "text/plain": [
              "0.99"
            ]
          },
          "execution_count": 21,
          "metadata": {},
          "output_type": "execute_result"
        }
      ],
      "source": [
        ".99"
      ]
    },
    {
      "cell_type": "code",
      "execution_count": null,
      "id": "b597680a",
      "metadata": {
        "id": "b597680a",
        "outputId": "09381e45-5aa1-43c7-9f85-8fda7bde170a"
      },
      "outputs": [
        {
          "data": {
            "text/plain": [
              "500000000.0"
            ]
          },
          "execution_count": 22,
          "metadata": {},
          "output_type": "execute_result"
        }
      ],
      "source": [
        "5e8"
      ]
    },
    {
      "cell_type": "code",
      "execution_count": null,
      "id": "6af99295",
      "metadata": {
        "id": "6af99295",
        "outputId": "16de24a4-b320-4520-bf60-ab2f935f4ead"
      },
      "outputs": [
        {
          "data": {
            "text/plain": [
              "float"
            ]
          },
          "execution_count": 23,
          "metadata": {},
          "output_type": "execute_result"
        }
      ],
      "source": [
        "type(5e8)"
      ]
    },
    {
      "cell_type": "code",
      "execution_count": null,
      "id": "dc9d4797",
      "metadata": {
        "id": "dc9d4797",
        "outputId": "a5ed3ace-72e9-4359-efc4-49f5645df56b"
      },
      "outputs": [
        {
          "data": {
            "text/plain": [
              "5.67e-06"
            ]
          },
          "execution_count": 24,
          "metadata": {},
          "output_type": "execute_result"
        }
      ],
      "source": [
        "5.67E-6"
      ]
    },
    {
      "cell_type": "code",
      "execution_count": null,
      "id": "c0379fb3",
      "metadata": {
        "id": "c0379fb3",
        "outputId": "9c8479b5-e47f-4679-8f47-4010403fae94"
      },
      "outputs": [
        {
          "data": {
            "text/plain": [
              "10.0"
            ]
          },
          "execution_count": 25,
          "metadata": {},
          "output_type": "execute_result"
        }
      ],
      "source": [
        "#We can also convert or cast a integer to a float with float()\n",
        "float(10)"
      ]
    },
    {
      "cell_type": "markdown",
      "id": "6fd43043",
      "metadata": {
        "id": "6fd43043"
      },
      "source": [
        "Almost all platforms represent Python float values as 64-bit “double-precision” values, according to the IEEE 754 standard. In that case, the maximum value a floating-point number can have is approximately 1.8 ⨉ 10308. Python will indicate a number greater than that by the string inf"
      ]
    },
    {
      "cell_type": "code",
      "execution_count": null,
      "id": "8488b000",
      "metadata": {
        "id": "8488b000",
        "outputId": "cdbf7b10-c409-4dc6-deea-95fb90c678c2"
      },
      "outputs": [
        {
          "data": {
            "text/plain": [
              "1.79e+308"
            ]
          },
          "execution_count": 26,
          "metadata": {},
          "output_type": "execute_result"
        }
      ],
      "source": [
        "1.79e308"
      ]
    },
    {
      "cell_type": "code",
      "execution_count": null,
      "id": "e9e58b9a",
      "metadata": {
        "id": "e9e58b9a",
        "outputId": "7ae62d81-8a98-4134-c924-a78567e16bb2"
      },
      "outputs": [
        {
          "data": {
            "text/plain": [
              "inf"
            ]
          },
          "execution_count": 27,
          "metadata": {},
          "output_type": "execute_result"
        }
      ],
      "source": [
        "1.8e308"
      ]
    },
    {
      "cell_type": "markdown",
      "id": "545099db",
      "metadata": {
        "id": "545099db"
      },
      "source": [
        "The closest a nonzero number can be to zero is approximately 5.0 ⨉ 10-324. Anything closer to zero than that is effectively zero:"
      ]
    },
    {
      "cell_type": "code",
      "execution_count": null,
      "id": "2da777ac",
      "metadata": {
        "id": "2da777ac",
        "outputId": "809814a0-3753-440b-cff5-d8fbfe04054a"
      },
      "outputs": [
        {
          "data": {
            "text/plain": [
              "5e-324"
            ]
          },
          "execution_count": 28,
          "metadata": {},
          "output_type": "execute_result"
        }
      ],
      "source": [
        "5e-324"
      ]
    },
    {
      "cell_type": "code",
      "execution_count": null,
      "id": "cdde2a65",
      "metadata": {
        "id": "cdde2a65",
        "outputId": "a3bb502c-6001-47c0-c165-1a3bfb40c284"
      },
      "outputs": [
        {
          "data": {
            "text/plain": [
              "0.0"
            ]
          },
          "execution_count": 29,
          "metadata": {},
          "output_type": "execute_result"
        }
      ],
      "source": [
        "1e-325"
      ]
    },
    {
      "cell_type": "markdown",
      "id": "69cf2b84",
      "metadata": {
        "id": "69cf2b84"
      },
      "source": [
        "In most cases the internal representation of a floating-point number is an approximation of the actual value. In practice, the difference between the actual value and the represented value is very small and should not usually cause significant problems."
      ]
    },
    {
      "cell_type": "code",
      "execution_count": null,
      "id": "05711ac5",
      "metadata": {
        "id": "05711ac5",
        "outputId": "08a9dc39-c8ac-4b19-f515-c73a92e52f2f"
      },
      "outputs": [
        {
          "data": {
            "text/plain": [
              "False"
            ]
          },
          "execution_count": 31,
          "metadata": {},
          "output_type": "execute_result"
        }
      ],
      "source": [
        "# == means 'is equal?' or 'is this equal to this?'\n",
        "0.1 + 0.2 == 0.3"
      ]
    },
    {
      "cell_type": "code",
      "execution_count": null,
      "id": "c4f0446e",
      "metadata": {
        "id": "c4f0446e",
        "outputId": "f2599561-d478-42d9-dcf4-dbee1e471a66"
      },
      "outputs": [
        {
          "name": "stdout",
          "output_type": "stream",
          "text": [
            "0.1 = 0.10000000000000001\n",
            "0.2 = 0.20000000000000001\n",
            "0.3 = 0.29999999999999999\n"
          ]
        }
      ],
      "source": [
        "#Lets format our float numbers to have 17 decimal places\n",
        "print(\"0.1 = {0:.17f}\".format(0.1))\n",
        "print(\"0.2 = {0:.17f}\".format(0.2))\n",
        "print(\"0.3 = {0:.17f}\".format(0.3))"
      ]
    },
    {
      "cell_type": "markdown",
      "id": "4f5896de",
      "metadata": {
        "id": "4f5896de"
      },
      "source": [
        "### Complex numbers\n",
        "Complex numbers are specified as `<real part>+<imaginary part>j`. You can print only the real or imaginary part by using `.imag` or `.real`"
      ]
    },
    {
      "cell_type": "code",
      "execution_count": null,
      "id": "298bf4f7",
      "metadata": {
        "id": "298bf4f7",
        "outputId": "9781496d-e621-443b-eb81-77ea31558929"
      },
      "outputs": [
        {
          "data": {
            "text/plain": [
              "(2+5j)"
            ]
          },
          "execution_count": 34,
          "metadata": {},
          "output_type": "execute_result"
        }
      ],
      "source": [
        "2+5j"
      ]
    },
    {
      "cell_type": "code",
      "execution_count": null,
      "id": "55f38c7c",
      "metadata": {
        "id": "55f38c7c",
        "outputId": "9b097d63-2595-4bde-ace6-5173f20c5727"
      },
      "outputs": [
        {
          "data": {
            "text/plain": [
              "complex"
            ]
          },
          "execution_count": 35,
          "metadata": {},
          "output_type": "execute_result"
        }
      ],
      "source": [
        "type(2+5j)"
      ]
    },
    {
      "cell_type": "code",
      "execution_count": null,
      "id": "d8d84ba7",
      "metadata": {
        "id": "d8d84ba7",
        "outputId": "0279c4ef-f8e8-4cc8-af28-9cc360afb9de"
      },
      "outputs": [
        {
          "data": {
            "text/plain": [
              "1.0"
            ]
          },
          "execution_count": 37,
          "metadata": {},
          "output_type": "execute_result"
        }
      ],
      "source": [
        "comp = 1+2j\n",
        "comp.real"
      ]
    },
    {
      "cell_type": "code",
      "execution_count": null,
      "id": "19826f04",
      "metadata": {
        "id": "19826f04",
        "outputId": "e2e1098a-22f0-476d-e8cf-6f75d2544eba"
      },
      "outputs": [
        {
          "data": {
            "text/plain": [
              "2.0"
            ]
          },
          "execution_count": 38,
          "metadata": {},
          "output_type": "execute_result"
        }
      ],
      "source": [
        "comp.imag"
      ]
    },
    {
      "cell_type": "markdown",
      "id": "59bb12dd",
      "metadata": {
        "id": "59bb12dd"
      },
      "source": [
        "### Strings\n",
        "Strings are sequences of character data. In Python this is called `str`. \n",
        "Strings can be limited by single or double quotes."
      ]
    },
    {
      "cell_type": "code",
      "execution_count": null,
      "id": "78aea91a",
      "metadata": {
        "id": "78aea91a",
        "outputId": "826e12bf-d129-40cd-83da-1b96ff972028"
      },
      "outputs": [
        {
          "name": "stdout",
          "output_type": "stream",
          "text": [
            "This is a string\n"
          ]
        },
        {
          "data": {
            "text/plain": [
              "str"
            ]
          },
          "execution_count": 40,
          "metadata": {},
          "output_type": "execute_result"
        }
      ],
      "source": [
        "print(\"This is a string\")\n",
        "type(\"What is my type?\")"
      ]
    },
    {
      "cell_type": "code",
      "execution_count": null,
      "id": "22b82343",
      "metadata": {
        "id": "22b82343",
        "outputId": "04e38a19-502a-4272-8290-de9ac142aefa"
      },
      "outputs": [
        {
          "name": "stdout",
          "output_type": "stream",
          "text": [
            "This is also a string\n"
          ]
        },
        {
          "data": {
            "text/plain": [
              "str"
            ]
          },
          "execution_count": 41,
          "metadata": {},
          "output_type": "execute_result"
        }
      ],
      "source": [
        "print('This is also a string')\n",
        "type('Am I a string?')"
      ]
    },
    {
      "cell_type": "markdown",
      "id": "145cb9e7",
      "metadata": {
        "id": "145cb9e7"
      },
      "source": [
        "A string can contain as many characters as you wish. The only limit is the computer memory. A string can also be empty."
      ]
    },
    {
      "cell_type": "code",
      "execution_count": null,
      "id": "1f921753",
      "metadata": {
        "id": "1f921753",
        "outputId": "1f6c7b79-fd4c-4ca5-b07a-d8dce998078b"
      },
      "outputs": [
        {
          "data": {
            "text/plain": [
              "str"
            ]
          },
          "execution_count": 43,
          "metadata": {},
          "output_type": "execute_result"
        }
      ],
      "source": [
        "''\n",
        "type('')"
      ]
    },
    {
      "cell_type": "code",
      "execution_count": null,
      "id": "8d4d828d",
      "metadata": {
        "id": "8d4d828d",
        "outputId": "b75ebee6-ffe5-47e9-fb75-5a0dc2034ccf"
      },
      "outputs": [
        {
          "name": "stdout",
          "output_type": "stream",
          "text": [
            "Here is a single quote ''\n",
            "Here is a double quote \"\"\n"
          ]
        }
      ],
      "source": [
        "#Double and single quotes can be combined\n",
        "print(\"Here is a single quote ''\")\n",
        "\n",
        "print('Here is a double quote \"\"')"
      ]
    },
    {
      "cell_type": "markdown",
      "id": "78932997",
      "metadata": {
        "id": "78932997"
      },
      "source": [
        "Here are some useful string functions, concatenation and indexing"
      ]
    },
    {
      "cell_type": "code",
      "execution_count": null,
      "id": "10ae543b",
      "metadata": {
        "id": "10ae543b",
        "outputId": "6bce0fc2-ada6-4b13-d3b7-41b677936a9b"
      },
      "outputs": [
        {
          "data": {
            "text/plain": [
              "17"
            ]
          },
          "execution_count": 46,
          "metadata": {},
          "output_type": "execute_result"
        }
      ],
      "source": [
        "message = \"what do you like?\"\n",
        "# length of string\n",
        "len(message)"
      ]
    },
    {
      "cell_type": "code",
      "execution_count": null,
      "id": "38b2f65c",
      "metadata": {
        "id": "38b2f65c",
        "outputId": "2f755dfa-6880-4ddd-b499-d433978139fd"
      },
      "outputs": [
        {
          "data": {
            "text/plain": [
              "'WHAT DO YOU LIKE?'"
            ]
          },
          "execution_count": 47,
          "metadata": {},
          "output_type": "execute_result"
        }
      ],
      "source": [
        "# Make upper-case. See also str.lower()\n",
        "message.upper()"
      ]
    },
    {
      "cell_type": "code",
      "execution_count": null,
      "id": "f30c3eec",
      "metadata": {
        "id": "f30c3eec",
        "outputId": "109d42e7-ef06-45fb-e905-bd990dc8a4d6"
      },
      "outputs": [
        {
          "data": {
            "text/plain": [
              "'what do you like?'"
            ]
          },
          "execution_count": 48,
          "metadata": {},
          "output_type": "execute_result"
        }
      ],
      "source": [
        "# Make lower-case.\n",
        "message.lower()"
      ]
    },
    {
      "cell_type": "code",
      "execution_count": null,
      "id": "58378fff",
      "metadata": {
        "id": "58378fff",
        "outputId": "ca92a120-f711-4d91-ec0d-029354d2b876"
      },
      "outputs": [
        {
          "data": {
            "text/plain": [
              "'What do you like?'"
            ]
          },
          "execution_count": 49,
          "metadata": {},
          "output_type": "execute_result"
        }
      ],
      "source": [
        "# Capitalize. See also str.title()\n",
        "message.capitalize()"
      ]
    },
    {
      "cell_type": "code",
      "execution_count": null,
      "id": "e6b59e79",
      "metadata": {
        "id": "e6b59e79",
        "outputId": "5b1bb9ad-7a39-44d8-d32b-b727e7c5b305"
      },
      "outputs": [
        {
          "data": {
            "text/plain": [
              "'What Do You Like?'"
            ]
          },
          "execution_count": 50,
          "metadata": {},
          "output_type": "execute_result"
        }
      ],
      "source": [
        "# Capitalize every first letter\n",
        "message.title()"
      ]
    },
    {
      "cell_type": "code",
      "execution_count": null,
      "id": "b45c0f40",
      "metadata": {
        "id": "b45c0f40",
        "outputId": "eaaf8a86-c30f-441b-f102-e342b7ea82aa"
      },
      "outputs": [
        {
          "data": {
            "text/plain": [
              "'what do you like? I like Python'"
            ]
          },
          "execution_count": 52,
          "metadata": {},
          "output_type": "execute_result"
        }
      ],
      "source": [
        "# Concatenate or join two or more strings with +\n",
        "message + \" I like Python\""
      ]
    },
    {
      "cell_type": "code",
      "execution_count": null,
      "id": "4c466e71",
      "metadata": {
        "id": "4c466e71",
        "outputId": "21c0804a-0340-46cd-e3f7-cd66eadf4dc5"
      },
      "outputs": [
        {
          "data": {
            "text/plain": [
              "'I like PythonI like PythonI like PythonI like PythonI like Python'"
            ]
          },
          "execution_count": 53,
          "metadata": {},
          "output_type": "execute_result"
        }
      ],
      "source": [
        "# an astherisc * will multiply your string\n",
        "like = \"I like Python\"\n",
        "like * 5"
      ]
    },
    {
      "cell_type": "markdown",
      "id": "a151b0f1",
      "metadata": {
        "id": "a151b0f1"
      },
      "source": [
        "Indexing means accesing the individual elements or characters of a string (or list, as you will see later). To index a string use the `[]` brackets and the number you want to index. Just remember Python uses zero-based index."
      ]
    },
    {
      "cell_type": "code",
      "execution_count": null,
      "id": "d49a55db",
      "metadata": {
        "id": "d49a55db",
        "outputId": "78c37f13-f6cb-46f8-f458-d165f040a89d"
      },
      "outputs": [
        {
          "data": {
            "text/plain": [
              "'I'"
            ]
          },
          "execution_count": 55,
          "metadata": {},
          "output_type": "execute_result"
        }
      ],
      "source": [
        "like[0]"
      ]
    },
    {
      "cell_type": "code",
      "execution_count": null,
      "id": "ff85a50d",
      "metadata": {
        "id": "ff85a50d",
        "outputId": "a553ace7-b1ec-40e7-de1c-3ec6e3cb795e"
      },
      "outputs": [
        {
          "data": {
            "text/plain": [
              "' '"
            ]
          },
          "execution_count": 58,
          "metadata": {},
          "output_type": "execute_result"
        }
      ],
      "source": [
        "like[1]"
      ]
    },
    {
      "cell_type": "code",
      "execution_count": null,
      "id": "474dcf0c",
      "metadata": {
        "id": "474dcf0c",
        "outputId": "8650a431-982d-4e62-c079-9de9d3ccd586"
      },
      "outputs": [
        {
          "name": "stdout",
          "output_type": "stream",
          "text": [
            "I   l i k\n"
          ]
        }
      ],
      "source": [
        "print(like[0], like[1], like[2], like[3], like[4])"
      ]
    },
    {
      "cell_type": "code",
      "execution_count": null,
      "id": "a72d19c1",
      "metadata": {
        "id": "a72d19c1",
        "outputId": "2b1f5338-a80a-4e7b-edf6-5c6c18d6861b"
      },
      "outputs": [
        {
          "data": {
            "text/plain": [
              "'n'"
            ]
          },
          "execution_count": 66,
          "metadata": {},
          "output_type": "execute_result"
        }
      ],
      "source": [
        "# A negative index will start counting from the right side\n",
        "# Here is the last letter\n",
        "like[-1]"
      ]
    },
    {
      "cell_type": "markdown",
      "id": "5fe325f2",
      "metadata": {
        "id": "5fe325f2"
      },
      "source": [
        "### Optional Exercise\n",
        "Create two string variables, one with your first name, another with your last name.\n",
        "- Concatenate these two variables\n",
        "- Index just the first letter of your name and the first letter of your last name using `[]`, concatenate and print these two characters.\n",
        "- Can you print the initials of your first and last name but this time only in lowercase letters?\n",
        "- Try to print the following rectangle using only string multiplication with `*`\n",
        "\n",
        "`**************` \\\n",
        "`*            *` \\\n",
        "`*            *` \\\n",
        "`*            *` \\\n",
        "`*            *` \\\n",
        "`*            *` \\\n",
        "`**************` "
      ]
    },
    {
      "cell_type": "markdown",
      "id": "6a3766cf",
      "metadata": {
        "id": "6a3766cf"
      },
      "source": [
        "### Boolean Type\n",
        "Objects of Boolean type may have one of two values, `True` or `False`:\n",
        "Expressions in Python are often evaluated in Boolean context, meaning they are interpreted to represent truth or falsehood."
      ]
    },
    {
      "cell_type": "code",
      "execution_count": null,
      "id": "fbb1b3cc",
      "metadata": {
        "id": "fbb1b3cc",
        "outputId": "1915c56a-1076-4f81-e897-fe714d396ba4"
      },
      "outputs": [
        {
          "data": {
            "text/plain": [
              "True"
            ]
          },
          "execution_count": 69,
          "metadata": {},
          "output_type": "execute_result"
        }
      ],
      "source": [
        "# Compare if 4 if less than 5\n",
        "result = (4 < 5)\n",
        "result"
      ]
    },
    {
      "cell_type": "code",
      "execution_count": null,
      "id": "c61ec305",
      "metadata": {
        "id": "c61ec305",
        "outputId": "6bf44425-bfcc-4062-a5cd-b4761efefc3d"
      },
      "outputs": [
        {
          "data": {
            "text/plain": [
              "bool"
            ]
          },
          "execution_count": 71,
          "metadata": {},
          "output_type": "execute_result"
        }
      ],
      "source": [
        "type(result)"
      ]
    },
    {
      "cell_type": "code",
      "execution_count": null,
      "id": "b0e45897",
      "metadata": {
        "id": "b0e45897",
        "outputId": "bf8e464e-7552-4fb8-8f15-efb638f7318f"
      },
      "outputs": [
        {
          "name": "stdout",
          "output_type": "stream",
          "text": [
            "True False\n"
          ]
        }
      ],
      "source": [
        "print(True, False)"
      ]
    },
    {
      "cell_type": "code",
      "execution_count": null,
      "id": "b5aab6f0",
      "metadata": {
        "id": "b5aab6f0",
        "outputId": "754f9112-1735-40f2-99ff-93609cb89c8d"
      },
      "outputs": [
        {
          "data": {
            "text/plain": [
              "True"
            ]
          },
          "execution_count": 76,
          "metadata": {},
          "output_type": "execute_result"
        }
      ],
      "source": [
        "# Not zero\n",
        "bool(2014)"
      ]
    },
    {
      "cell_type": "code",
      "execution_count": null,
      "id": "3e20f5c3",
      "metadata": {
        "id": "3e20f5c3",
        "outputId": "8e698542-a17d-4fad-ad24-e4dc5a2d8120"
      },
      "outputs": [
        {
          "data": {
            "text/plain": [
              "False"
            ]
          },
          "execution_count": 77,
          "metadata": {},
          "output_type": "execute_result"
        }
      ],
      "source": [
        "# A zero is equal to False\n",
        "bool(0)"
      ]
    },
    {
      "cell_type": "code",
      "execution_count": null,
      "id": "67d70d06",
      "metadata": {
        "id": "67d70d06",
        "outputId": "058313f0-0071-4451-b8c4-7b848cf804f4"
      },
      "outputs": [
        {
          "data": {
            "text/plain": [
              "True"
            ]
          },
          "execution_count": 78,
          "metadata": {},
          "output_type": "execute_result"
        }
      ],
      "source": [
        "# Also not zero\n",
        "bool(3.1415)"
      ]
    },
    {
      "cell_type": "code",
      "execution_count": null,
      "id": "61a8db9a",
      "metadata": {
        "id": "61a8db9a",
        "outputId": "ec7effaf-ad50-45fe-eec4-0ca19f0c8623"
      },
      "outputs": [
        {
          "data": {
            "text/plain": [
              "False"
            ]
          },
          "execution_count": 79,
          "metadata": {},
          "output_type": "execute_result"
        }
      ],
      "source": [
        "bool(None)"
      ]
    },
    {
      "cell_type": "code",
      "execution_count": null,
      "id": "c4ac8aec",
      "metadata": {
        "id": "c4ac8aec",
        "outputId": "b071a7a6-f140-4f9d-eb6c-874d56ff3347"
      },
      "outputs": [
        {
          "data": {
            "text/plain": [
              "False"
            ]
          },
          "execution_count": 81,
          "metadata": {},
          "output_type": "execute_result"
        }
      ],
      "source": [
        "# Empty string\n",
        "bool(\"\")"
      ]
    },
    {
      "cell_type": "code",
      "execution_count": null,
      "id": "b55886b2",
      "metadata": {
        "id": "b55886b2",
        "outputId": "be43fbb8-a1b4-4cef-948c-d7da677f86bc"
      },
      "outputs": [
        {
          "data": {
            "text/plain": [
              "True"
            ]
          },
          "execution_count": 82,
          "metadata": {},
          "output_type": "execute_result"
        }
      ],
      "source": [
        "bool(\"abc\")"
      ]
    },
    {
      "cell_type": "code",
      "execution_count": null,
      "id": "510bda47",
      "metadata": {
        "id": "510bda47",
        "outputId": "734db24a-afea-469c-a921-dc01a930f267"
      },
      "outputs": [
        {
          "data": {
            "text/plain": [
              "True"
            ]
          },
          "execution_count": 83,
          "metadata": {},
          "output_type": "execute_result"
        }
      ],
      "source": [
        "bool([1, 2, 3])"
      ]
    },
    {
      "cell_type": "code",
      "execution_count": null,
      "id": "6466ab80",
      "metadata": {
        "id": "6466ab80",
        "outputId": "44a3d0bc-d1c2-48fc-8166-074926f0b677"
      },
      "outputs": [
        {
          "data": {
            "text/plain": [
              "False"
            ]
          },
          "execution_count": 84,
          "metadata": {},
          "output_type": "execute_result"
        }
      ],
      "source": [
        "# Empty list\n",
        "bool([])"
      ]
    },
    {
      "cell_type": "code",
      "execution_count": null,
      "id": "a1082049",
      "metadata": {
        "id": "a1082049",
        "outputId": "51155bef-5e02-48f5-bb49-7231c956888c"
      },
      "outputs": [
        {
          "data": {
            "text/plain": [
              "False"
            ]
          },
          "execution_count": 85,
          "metadata": {},
          "output_type": "execute_result"
        }
      ],
      "source": [
        "bool(0.0)"
      ]
    },
    {
      "cell_type": "code",
      "execution_count": null,
      "id": "0f4a3cf2",
      "metadata": {
        "id": "0f4a3cf2",
        "outputId": "32b5773b-d69e-496a-be7b-5f4d27de8fae"
      },
      "outputs": [
        {
          "data": {
            "text/plain": [
              "True"
            ]
          },
          "execution_count": 86,
          "metadata": {},
          "output_type": "execute_result"
        }
      ],
      "source": [
        "bool(1.0)"
      ]
    },
    {
      "cell_type": "code",
      "execution_count": null,
      "id": "a5ad8551",
      "metadata": {
        "id": "a5ad8551",
        "outputId": "38798ea9-c763-4a1d-d112-9579a0f0f0ff"
      },
      "outputs": [
        {
          "data": {
            "text/plain": [
              "1"
            ]
          },
          "execution_count": 87,
          "metadata": {},
          "output_type": "execute_result"
        }
      ],
      "source": [
        "int(True)"
      ]
    },
    {
      "cell_type": "code",
      "execution_count": null,
      "id": "ebaa2672",
      "metadata": {
        "id": "ebaa2672",
        "outputId": "c402627f-cee4-4701-ab41-f3df74ed4645"
      },
      "outputs": [
        {
          "data": {
            "text/plain": [
              "0"
            ]
          },
          "execution_count": 89,
          "metadata": {},
          "output_type": "execute_result"
        }
      ],
      "source": [
        "int(False)"
      ]
    },
    {
      "cell_type": "markdown",
      "id": "156dfe28",
      "metadata": {
        "id": "156dfe28"
      },
      "source": [
        "### Other useful data types\n",
        "### Lists\n",
        "Lists are mutable collections of objects, similar to arrays in other programming languages. Lists are defined in Python by enclosing a comma-separated sequence of objects in square brackets `[]`\n",
        "- Lists are ordered\n",
        "- Lists can contain different types of objects\n",
        "- List objects can be accessed by index\n",
        "- Lists can be nested to arbitrary depth e.g. list of lists\n",
        "- Lists are mutable, they can be changed"
      ]
    },
    {
      "cell_type": "code",
      "execution_count": null,
      "id": "4add7d38",
      "metadata": {
        "colab": {
          "base_uri": "https://localhost:8080/"
        },
        "id": "4add7d38",
        "outputId": "030ea2d8-fd9e-4e03-882c-c379b721d05a"
      },
      "outputs": [
        {
          "output_type": "execute_result",
          "data": {
            "text/plain": [
              "['John', 'Mary', 'Max', 'Wanda']"
            ]
          },
          "metadata": {},
          "execution_count": 9
        }
      ],
      "source": [
        "# Creating a string list\n",
        "friends = ['John', 'Mary', 'Max', 'Wanda']\n",
        "friends"
      ]
    },
    {
      "cell_type": "code",
      "execution_count": null,
      "id": "65faca10",
      "metadata": {
        "colab": {
          "base_uri": "https://localhost:8080/"
        },
        "id": "65faca10",
        "outputId": "e2c348e5-a3b1-46c9-96b8-c21fe3a3bdf8"
      },
      "outputs": [
        {
          "output_type": "execute_result",
          "data": {
            "text/plain": [
              "False"
            ]
          },
          "metadata": {},
          "execution_count": 10
        }
      ],
      "source": [
        "# Lists are ordered\n",
        "# lists with the same elements in different order are not the same\n",
        "a = [1, 2, 3, 4, 5]\n",
        "b = [1, 2, 4, 3, 5]\n",
        "\n",
        "a == b"
      ]
    },
    {
      "cell_type": "code",
      "execution_count": null,
      "id": "14fa7954",
      "metadata": {
        "colab": {
          "base_uri": "https://localhost:8080/"
        },
        "id": "14fa7954",
        "outputId": "a52b9017-4fe6-4c39-f108-a2ea7f1d3528"
      },
      "outputs": [
        {
          "output_type": "execute_result",
          "data": {
            "text/plain": [
              "False"
            ]
          },
          "metadata": {},
          "execution_count": 11
        }
      ],
      "source": [
        "a is b"
      ]
    },
    {
      "cell_type": "code",
      "execution_count": null,
      "id": "d0ae682c",
      "metadata": {
        "colab": {
          "base_uri": "https://localhost:8080/"
        },
        "id": "d0ae682c",
        "outputId": "034c6cb8-279b-4d91-9068-ff4d052c36ab"
      },
      "outputs": [
        {
          "output_type": "execute_result",
          "data": {
            "text/plain": [
              "[10, 3.14, 'hello', True]"
            ]
          },
          "metadata": {},
          "execution_count": 12
        }
      ],
      "source": [
        "# Lists can contain different types of objects\n",
        "c = [10, 3.14, 'hello', True]\n",
        "c"
      ]
    },
    {
      "cell_type": "code",
      "execution_count": null,
      "id": "1be3520d",
      "metadata": {
        "colab": {
          "base_uri": "https://localhost:8080/"
        },
        "id": "1be3520d",
        "outputId": "e4b93567-1d3d-47ba-df2b-54b15ab4ea02"
      },
      "outputs": [
        {
          "output_type": "execute_result",
          "data": {
            "text/plain": [
              "list"
            ]
          },
          "metadata": {},
          "execution_count": 13
        }
      ],
      "source": [
        "type(c)"
      ]
    },
    {
      "cell_type": "code",
      "execution_count": null,
      "id": "33c22ce1",
      "metadata": {
        "colab": {
          "base_uri": "https://localhost:8080/"
        },
        "id": "33c22ce1",
        "outputId": "8650cd28-528b-4753-abc7-fc8c0c92e044"
      },
      "outputs": [
        {
          "output_type": "execute_result",
          "data": {
            "text/plain": [
              "bool"
            ]
          },
          "metadata": {},
          "execution_count": 14
        }
      ],
      "source": [
        "type(c[3])"
      ]
    },
    {
      "cell_type": "code",
      "execution_count": null,
      "id": "64a0c4a9",
      "metadata": {
        "id": "64a0c4a9"
      },
      "outputs": [],
      "source": [
        "# Lists can contain the same object multiple times\n",
        "d = ['bark', 'cat', 'cat', 'dog']"
      ]
    },
    {
      "cell_type": "code",
      "execution_count": null,
      "id": "2ea04079",
      "metadata": {
        "colab": {
          "base_uri": "https://localhost:8080/",
          "height": 37
        },
        "id": "2ea04079",
        "outputId": "1e6ea81f-1048-4e8e-c826-61f7405a0e5e"
      },
      "outputs": [
        {
          "output_type": "execute_result",
          "data": {
            "text/plain": [
              "'bark'"
            ],
            "application/vnd.google.colaboratory.intrinsic+json": {
              "type": "string"
            }
          },
          "metadata": {},
          "execution_count": 16
        }
      ],
      "source": [
        "# Lists objects can be accessed by index\n",
        "d[0]"
      ]
    },
    {
      "cell_type": "code",
      "execution_count": null,
      "id": "5c65e5ee",
      "metadata": {
        "colab": {
          "base_uri": "https://localhost:8080/",
          "height": 37
        },
        "id": "5c65e5ee",
        "outputId": "18f17b4d-1bc3-45ee-e342-cd8a37fd5cf2"
      },
      "outputs": [
        {
          "output_type": "execute_result",
          "data": {
            "text/plain": [
              "'cat'"
            ],
            "application/vnd.google.colaboratory.intrinsic+json": {
              "type": "string"
            }
          },
          "metadata": {},
          "execution_count": 17
        }
      ],
      "source": [
        "d[1]"
      ]
    },
    {
      "cell_type": "code",
      "execution_count": null,
      "id": "b0d744d5",
      "metadata": {
        "colab": {
          "base_uri": "https://localhost:8080/",
          "height": 37
        },
        "id": "b0d744d5",
        "outputId": "e866f25e-5aed-440b-dfbe-eb15fd6bc995"
      },
      "outputs": [
        {
          "output_type": "execute_result",
          "data": {
            "text/plain": [
              "'dog'"
            ],
            "application/vnd.google.colaboratory.intrinsic+json": {
              "type": "string"
            }
          },
          "metadata": {},
          "execution_count": 18
        }
      ],
      "source": [
        "# Remember a negative index counts from the end of the list\n",
        "d[-1]"
      ]
    },
    {
      "cell_type": "markdown",
      "id": "1b769660",
      "metadata": {
        "id": "1b769660"
      },
      "source": [
        "Slicing a list means taking a range of the objects that exist in that list, this is done by the square brackets and two index numbers separated by `:` similar to this `[0:3]`. In a list `a`, `a[m:n]` returns the portion of a from index m to, but not including, index n"
      ]
    },
    {
      "cell_type": "code",
      "execution_count": null,
      "id": "f2db9054",
      "metadata": {
        "colab": {
          "base_uri": "https://localhost:8080/"
        },
        "id": "f2db9054",
        "outputId": "94806b0d-b4b6-47c6-aa58-f4c9f93cd47c"
      },
      "outputs": [
        {
          "output_type": "execute_result",
          "data": {
            "text/plain": [
              "['John', 'Mary']"
            ]
          },
          "metadata": {},
          "execution_count": 19
        }
      ],
      "source": [
        "friends[0:2]"
      ]
    },
    {
      "cell_type": "code",
      "execution_count": null,
      "id": "b6d5d7d6",
      "metadata": {
        "colab": {
          "base_uri": "https://localhost:8080/"
        },
        "id": "b6d5d7d6",
        "outputId": "dbae589b-72a6-4a96-a2cf-4aadf1677f7e"
      },
      "outputs": [
        {
          "output_type": "execute_result",
          "data": {
            "text/plain": [
              "['Mary', 'Max']"
            ]
          },
          "metadata": {},
          "execution_count": 20
        }
      ],
      "source": [
        "# not including index 3\n",
        "friends[1:3]"
      ]
    },
    {
      "cell_type": "code",
      "execution_count": null,
      "id": "000942df",
      "metadata": {
        "colab": {
          "base_uri": "https://localhost:8080/",
          "height": 37
        },
        "id": "000942df",
        "outputId": "8f3f27c0-6fe0-49cd-86f3-1e76ab9ffd3d"
      },
      "outputs": [
        {
          "output_type": "execute_result",
          "data": {
            "text/plain": [
              "'Wanda'"
            ],
            "application/vnd.google.colaboratory.intrinsic+json": {
              "type": "string"
            }
          },
          "metadata": {},
          "execution_count": 21
        }
      ],
      "source": [
        "friends[3]"
      ]
    },
    {
      "cell_type": "code",
      "execution_count": null,
      "id": "2a5e7c1e",
      "metadata": {
        "colab": {
          "base_uri": "https://localhost:8080/"
        },
        "id": "2a5e7c1e",
        "outputId": "66d8d24b-d477-48af-feb8-7a512c1ed25d"
      },
      "outputs": [
        {
          "output_type": "execute_result",
          "data": {
            "text/plain": [
              "['Mary', 'Max', 'Wanda']"
            ]
          },
          "metadata": {},
          "execution_count": 22
        }
      ],
      "source": [
        "# Negative slicing is supported\n",
        "friends[-3: 4]"
      ]
    },
    {
      "cell_type": "code",
      "execution_count": null,
      "id": "538dcb72",
      "metadata": {
        "colab": {
          "base_uri": "https://localhost:8080/"
        },
        "id": "538dcb72",
        "outputId": "4e53d172-1022-4234-9251-334dd92b1980"
      },
      "outputs": [
        {
          "output_type": "execute_result",
          "data": {
            "text/plain": [
              "['John', 'Mary', 'Max']"
            ]
          },
          "metadata": {},
          "execution_count": 23
        }
      ],
      "source": [
        "# Omiting the first index starts at the beginning of the list\n",
        "friends[:3]"
      ]
    },
    {
      "cell_type": "code",
      "execution_count": null,
      "id": "21e387e2",
      "metadata": {
        "colab": {
          "base_uri": "https://localhost:8080/"
        },
        "id": "21e387e2",
        "outputId": "e4543b24-df15-4439-8304-90d4b45343b2"
      },
      "outputs": [
        {
          "output_type": "execute_result",
          "data": {
            "text/plain": [
              "['John', 'Mary', 'Max', 'Wanda']"
            ]
          },
          "metadata": {},
          "execution_count": 24
        }
      ],
      "source": [
        "# Omiting the second index extend the slice to the end of the list\n",
        "friends[0:]"
      ]
    },
    {
      "cell_type": "code",
      "execution_count": null,
      "id": "187c870f",
      "metadata": {
        "colab": {
          "base_uri": "https://localhost:8080/"
        },
        "id": "187c870f",
        "outputId": "538d925d-d695-4a7c-e29b-4368b1843169"
      },
      "outputs": [
        {
          "output_type": "execute_result",
          "data": {
            "text/plain": [
              "['John', 'Max']"
            ]
          },
          "metadata": {},
          "execution_count": 25
        }
      ],
      "source": [
        "# You can also specify a step\n",
        "friends[0:4:2]"
      ]
    },
    {
      "cell_type": "code",
      "execution_count": null,
      "id": "7e202ccb",
      "metadata": {
        "colab": {
          "base_uri": "https://localhost:8080/"
        },
        "id": "7e202ccb",
        "outputId": "d94e47a7-81b3-49ff-9ef9-705b44439b8b"
      },
      "outputs": [
        {
          "output_type": "execute_result",
          "data": {
            "text/plain": [
              "[0, 1, 2, 3, 4, 5, 6, 7, 8, 9]"
            ]
          },
          "metadata": {},
          "execution_count": 26
        }
      ],
      "source": [
        "# Lets visualize step/stride with a numeric list\n",
        "numbers = [0, 1, 2, 3, 4, 5, 6, 7, 8, 9]\n",
        "numbers"
      ]
    },
    {
      "cell_type": "code",
      "execution_count": null,
      "id": "e5b4299b",
      "metadata": {
        "colab": {
          "base_uri": "https://localhost:8080/"
        },
        "id": "e5b4299b",
        "outputId": "73f99d47-6084-4723-ba78-277064aa286d"
      },
      "outputs": [
        {
          "output_type": "execute_result",
          "data": {
            "text/plain": [
              "[0, 2, 4, 6, 8]"
            ]
          },
          "metadata": {},
          "execution_count": 27
        }
      ],
      "source": [
        "# Start in index 0, include all elements, step every 2 elements\n",
        "numbers[0::2]"
      ]
    },
    {
      "cell_type": "code",
      "execution_count": null,
      "id": "ae80c559",
      "metadata": {
        "colab": {
          "base_uri": "https://localhost:8080/",
          "height": 37
        },
        "id": "ae80c559",
        "outputId": "b28bb86c-cfac-47be-c7af-4709f68c6054"
      },
      "outputs": [
        {
          "output_type": "execute_result",
          "data": {
            "text/plain": [
              "'Hello'"
            ],
            "application/vnd.google.colaboratory.intrinsic+json": {
              "type": "string"
            }
          },
          "metadata": {},
          "execution_count": 28
        }
      ],
      "source": [
        "# You can also slice strings!\n",
        "message = 'Hello'\n",
        "message[:]"
      ]
    },
    {
      "cell_type": "code",
      "execution_count": null,
      "id": "499bcc44",
      "metadata": {
        "colab": {
          "base_uri": "https://localhost:8080/",
          "height": 37
        },
        "id": "499bcc44",
        "outputId": "659e79f3-fcdb-4021-938c-07f93f60e80b"
      },
      "outputs": [
        {
          "output_type": "execute_result",
          "data": {
            "text/plain": [
              "'llo'"
            ],
            "application/vnd.google.colaboratory.intrinsic+json": {
              "type": "string"
            }
          },
          "metadata": {},
          "execution_count": 29
        }
      ],
      "source": [
        "message[2:5]"
      ]
    },
    {
      "cell_type": "markdown",
      "id": "752a8084",
      "metadata": {
        "id": "752a8084"
      },
      "source": [
        "The concatenation (+) and replication (*) operators:\n"
      ]
    },
    {
      "cell_type": "code",
      "execution_count": null,
      "id": "89d9c0ee",
      "metadata": {
        "colab": {
          "base_uri": "https://localhost:8080/"
        },
        "id": "89d9c0ee",
        "outputId": "91c89e46-0ec2-4bb7-ac52-70e5e9626cdd"
      },
      "outputs": [
        {
          "output_type": "execute_result",
          "data": {
            "text/plain": [
              "['hello', 'yes', 'no']"
            ]
          },
          "metadata": {},
          "execution_count": 30
        }
      ],
      "source": [
        "e = ['hello', 'yes', 'no']\n",
        "e"
      ]
    },
    {
      "cell_type": "code",
      "execution_count": null,
      "id": "aa2f6237",
      "metadata": {
        "colab": {
          "base_uri": "https://localhost:8080/"
        },
        "id": "aa2f6237",
        "outputId": "1ac8ab32-dae6-43f7-bc8c-aec093019b18"
      },
      "outputs": [
        {
          "output_type": "execute_result",
          "data": {
            "text/plain": [
              "['hello', 'yes', 'no', 'here', 'mylist']"
            ]
          },
          "metadata": {},
          "execution_count": 31
        }
      ],
      "source": [
        "e + ['here', 'mylist']"
      ]
    },
    {
      "cell_type": "code",
      "execution_count": null,
      "id": "ed1fac87",
      "metadata": {
        "colab": {
          "base_uri": "https://localhost:8080/"
        },
        "id": "ed1fac87",
        "outputId": "9cde657d-d647-4260-b3e3-eccc04f43bbb"
      },
      "outputs": [
        {
          "output_type": "execute_result",
          "data": {
            "text/plain": [
              "['hello', 'yes', 'no', 'hello', 'yes', 'no']"
            ]
          },
          "metadata": {},
          "execution_count": 32
        }
      ],
      "source": [
        "e * 2"
      ]
    },
    {
      "cell_type": "markdown",
      "id": "553f2fb4",
      "metadata": {
        "id": "553f2fb4"
      },
      "source": [
        "The len(), min(), and max() functions"
      ]
    },
    {
      "cell_type": "code",
      "execution_count": null,
      "id": "639a486a",
      "metadata": {
        "colab": {
          "base_uri": "https://localhost:8080/"
        },
        "id": "639a486a",
        "outputId": "3d938f47-7527-4bf2-897c-2e48df28453c"
      },
      "outputs": [
        {
          "output_type": "execute_result",
          "data": {
            "text/plain": [
              "5"
            ]
          },
          "metadata": {},
          "execution_count": 33
        }
      ],
      "source": [
        "f = [5, 10, 15, 20, 25]\n",
        "len(f)"
      ]
    },
    {
      "cell_type": "code",
      "execution_count": null,
      "id": "fa4cfa36",
      "metadata": {
        "colab": {
          "base_uri": "https://localhost:8080/"
        },
        "id": "fa4cfa36",
        "outputId": "3bda4ab2-b13a-4b67-a548-e015da80fb11"
      },
      "outputs": [
        {
          "output_type": "execute_result",
          "data": {
            "text/plain": [
              "5"
            ]
          },
          "metadata": {},
          "execution_count": 34
        }
      ],
      "source": [
        "min(f)\n",
        "# Try this function with a string list. Can you explain what is happening?"
      ]
    },
    {
      "cell_type": "code",
      "execution_count": null,
      "id": "43f778ea",
      "metadata": {
        "colab": {
          "base_uri": "https://localhost:8080/"
        },
        "id": "43f778ea",
        "outputId": "ff143e16-c439-4264-9bc3-d8c14411a3b3"
      },
      "outputs": [
        {
          "output_type": "execute_result",
          "data": {
            "text/plain": [
              "25"
            ]
          },
          "metadata": {},
          "execution_count": 35
        }
      ],
      "source": [
        "max(f)\n",
        "# Try this function with a string list. Can you explain what is happening?"
      ]
    },
    {
      "cell_type": "markdown",
      "id": "e93b35a1",
      "metadata": {
        "id": "e93b35a1"
      },
      "source": [
        "Lists can be nested"
      ]
    },
    {
      "cell_type": "code",
      "execution_count": null,
      "id": "67c25d8e",
      "metadata": {
        "colab": {
          "base_uri": "https://localhost:8080/"
        },
        "id": "67c25d8e",
        "outputId": "5a032240-4dc7-40a4-dc4a-e207a9b3080c"
      },
      "outputs": [
        {
          "output_type": "execute_result",
          "data": {
            "text/plain": [
              "[[1, 2, 3, 4], [10, 20, 30], ['hello', 'from', 'my list']]"
            ]
          },
          "metadata": {},
          "execution_count": 36
        }
      ],
      "source": [
        "my_lists = [[1, 2, 3, 4], [10, 20, 30], ['hello', 'from', 'my list']]\n",
        "my_lists"
      ]
    },
    {
      "cell_type": "code",
      "execution_count": null,
      "id": "926818e8",
      "metadata": {
        "colab": {
          "base_uri": "https://localhost:8080/"
        },
        "id": "926818e8",
        "outputId": "2cfb404a-c8a8-454f-91a5-fec094db42cc"
      },
      "outputs": [
        {
          "output_type": "execute_result",
          "data": {
            "text/plain": [
              "[1, 2, 3, 4]"
            ]
          },
          "metadata": {},
          "execution_count": 37
        }
      ],
      "source": [
        "my_lists[0]"
      ]
    },
    {
      "cell_type": "code",
      "execution_count": null,
      "id": "2656eb4d",
      "metadata": {
        "colab": {
          "base_uri": "https://localhost:8080/"
        },
        "id": "2656eb4d",
        "outputId": "7f99590f-7860-4517-8f90-3ff3910de0f5"
      },
      "outputs": [
        {
          "output_type": "execute_result",
          "data": {
            "text/plain": [
              "3"
            ]
          },
          "metadata": {},
          "execution_count": 38
        }
      ],
      "source": [
        "# Accessing the second index\n",
        "my_lists[0][2]"
      ]
    },
    {
      "cell_type": "code",
      "execution_count": null,
      "id": "3f9b96c5",
      "metadata": {
        "colab": {
          "base_uri": "https://localhost:8080/"
        },
        "id": "3f9b96c5",
        "outputId": "d1898f52-6d16-4a3d-fdbb-69702813e67a"
      },
      "outputs": [
        {
          "output_type": "execute_result",
          "data": {
            "text/plain": [
              "['hello', 'from', 'my list']"
            ]
          },
          "metadata": {},
          "execution_count": 39
        }
      ],
      "source": [
        "my_lists[2]"
      ]
    },
    {
      "cell_type": "markdown",
      "id": "4388b319",
      "metadata": {
        "id": "4388b319"
      },
      "source": [
        "Lists are mutable, meaning they can be changed"
      ]
    },
    {
      "cell_type": "code",
      "execution_count": null,
      "id": "c400c936",
      "metadata": {
        "colab": {
          "base_uri": "https://localhost:8080/"
        },
        "id": "c400c936",
        "outputId": "0d0f611f-3215-4f7f-df47-162a11adc75c"
      },
      "outputs": [
        {
          "output_type": "execute_result",
          "data": {
            "text/plain": [
              "['eggs', 'cheese', 'milk', 'bread']"
            ]
          },
          "metadata": {},
          "execution_count": 40
        }
      ],
      "source": [
        "groceries = ['eggs', 'cheese', 'milk', 'bread']\n",
        "groceries"
      ]
    },
    {
      "cell_type": "code",
      "execution_count": null,
      "id": "5483caa4",
      "metadata": {
        "id": "5483caa4"
      },
      "outputs": [],
      "source": [
        "groceries[2] = 'soy milk'"
      ]
    },
    {
      "cell_type": "code",
      "execution_count": null,
      "id": "767edce9",
      "metadata": {
        "colab": {
          "base_uri": "https://localhost:8080/"
        },
        "id": "767edce9",
        "outputId": "d5912eb2-27e4-4243-f901-98909b2ff8b8"
      },
      "outputs": [
        {
          "output_type": "execute_result",
          "data": {
            "text/plain": [
              "['eggs', 'cheese', 'soy milk', 'bread']"
            ]
          },
          "metadata": {},
          "execution_count": 42
        }
      ],
      "source": [
        "groceries"
      ]
    },
    {
      "cell_type": "code",
      "execution_count": null,
      "id": "2c70d911",
      "metadata": {
        "colab": {
          "base_uri": "https://localhost:8080/"
        },
        "id": "2c70d911",
        "outputId": "4c1c887d-db10-4859-c55e-8074082ea1a3"
      },
      "outputs": [
        {
          "output_type": "execute_result",
          "data": {
            "text/plain": [
              "['eggs', 'soy milk', 'bread']"
            ]
          },
          "metadata": {},
          "execution_count": 43
        }
      ],
      "source": [
        "# delete an element with del()\n",
        "del groceries[1]\n",
        "groceries"
      ]
    },
    {
      "cell_type": "code",
      "execution_count": null,
      "id": "9b43a237",
      "metadata": {
        "colab": {
          "base_uri": "https://localhost:8080/"
        },
        "id": "9b43a237",
        "outputId": "ba24e507-2164-4a4a-c0c3-d508ab801569"
      },
      "outputs": [
        {
          "output_type": "execute_result",
          "data": {
            "text/plain": [
              "['eggs', 'soy milk', 'bread', 'coffee']"
            ]
          },
          "metadata": {},
          "execution_count": 44
        }
      ],
      "source": [
        "# Add a value at the end of a list with append\n",
        "groceries.append('coffee')\n",
        "groceries"
      ]
    },
    {
      "cell_type": "code",
      "execution_count": null,
      "id": "90ba3f90",
      "metadata": {
        "colab": {
          "base_uri": "https://localhost:8080/"
        },
        "id": "90ba3f90",
        "outputId": "a733c721-003d-45f5-ad57-0aaf21edf488"
      },
      "outputs": [
        {
          "output_type": "execute_result",
          "data": {
            "text/plain": [
              "['bread', 'coffee', 'eggs', 'soy milk']"
            ]
          },
          "metadata": {},
          "execution_count": 45
        }
      ],
      "source": [
        "# sort a list\n",
        "groceries.sort()\n",
        "groceries"
      ]
    },
    {
      "cell_type": "code",
      "execution_count": null,
      "id": "fb475e99",
      "metadata": {
        "colab": {
          "base_uri": "https://localhost:8080/"
        },
        "id": "fb475e99",
        "outputId": "b8930b91-f28d-4953-a08a-323215a4a9b5"
      },
      "outputs": [
        {
          "output_type": "execute_result",
          "data": {
            "text/plain": [
              "[22, 18, 15, 25, 26, 19, 35, 42]"
            ]
          },
          "metadata": {},
          "execution_count": 46
        }
      ],
      "source": [
        "ages = [22, 18, 15, 25, 26, 19, 35, 42]\n",
        "ages"
      ]
    },
    {
      "cell_type": "code",
      "execution_count": null,
      "id": "a35aaf5a",
      "metadata": {
        "colab": {
          "base_uri": "https://localhost:8080/"
        },
        "id": "a35aaf5a",
        "outputId": "e7ef9e44-67af-46d4-e40f-f945082cbf11"
      },
      "outputs": [
        {
          "output_type": "execute_result",
          "data": {
            "text/plain": [
              "[15, 18, 19, 22, 25, 26, 35, 42]"
            ]
          },
          "metadata": {},
          "execution_count": 47
        }
      ],
      "source": [
        "ages.sort()\n",
        "ages"
      ]
    },
    {
      "cell_type": "code",
      "execution_count": null,
      "id": "402772f3",
      "metadata": {
        "colab": {
          "base_uri": "https://localhost:8080/"
        },
        "id": "402772f3",
        "outputId": "63dbaadd-2a41-4b4c-c9ae-ea849c2bb590"
      },
      "outputs": [
        {
          "output_type": "execute_result",
          "data": {
            "text/plain": [
              "[15, 18, 19, 22, 25, 26, 35, 42]"
            ]
          },
          "metadata": {},
          "execution_count": 48
        }
      ],
      "source": [
        "# Invert a list\n",
        "ages"
      ]
    },
    {
      "cell_type": "code",
      "execution_count": null,
      "id": "bba06ef4",
      "metadata": {
        "colab": {
          "base_uri": "https://localhost:8080/"
        },
        "id": "bba06ef4",
        "outputId": "35633824-e04b-4627-d54e-5a55ec795658"
      },
      "outputs": [
        {
          "output_type": "execute_result",
          "data": {
            "text/plain": [
              "[42, 35, 26, 25, 22, 19, 18, 15]"
            ]
          },
          "metadata": {},
          "execution_count": 49
        }
      ],
      "source": [
        "ages[::-1]"
      ]
    },
    {
      "cell_type": "code",
      "execution_count": null,
      "id": "0579280f",
      "metadata": {
        "colab": {
          "base_uri": "https://localhost:8080/"
        },
        "id": "0579280f",
        "outputId": "3bd39c7b-e57c-408d-b6d1-4a13c5c65f03"
      },
      "outputs": [
        {
          "output_type": "execute_result",
          "data": {
            "text/plain": [
              "[15, 18, 22, 25, 26, 35, 42]"
            ]
          },
          "metadata": {},
          "execution_count": 50
        }
      ],
      "source": [
        "# Delete an element from a specified index\n",
        "ages.pop(2)\n",
        "ages"
      ]
    },
    {
      "cell_type": "code",
      "execution_count": null,
      "id": "edff7aa5",
      "metadata": {
        "colab": {
          "base_uri": "https://localhost:8080/"
        },
        "id": "edff7aa5",
        "outputId": "3c5bf6a2-0d4a-4756-9813-5637681bfb5c"
      },
      "outputs": [
        {
          "output_type": "execute_result",
          "data": {
            "text/plain": [
              "[15, 18, 22, 26, 35, 42]"
            ]
          },
          "metadata": {},
          "execution_count": 51
        }
      ],
      "source": [
        "# You can also specify a value to remove with .remove()\n",
        "ages.remove(25)\n",
        "ages"
      ]
    },
    {
      "cell_type": "code",
      "execution_count": null,
      "id": "1ef9eb85",
      "metadata": {
        "colab": {
          "base_uri": "https://localhost:8080/"
        },
        "id": "1ef9eb85",
        "outputId": "772c7635-dff4-48e5-aa55-6d7a16e382d1"
      },
      "outputs": [
        {
          "output_type": "execute_result",
          "data": {
            "text/plain": [
              "[15, 18, 30, 22, 26, 35, 42]"
            ]
          },
          "metadata": {},
          "execution_count": 52
        }
      ],
      "source": [
        "# Insert a value at a specified index\n",
        "ages.insert(2, 30)\n",
        "ages"
      ]
    },
    {
      "cell_type": "markdown",
      "id": "fbfce63d",
      "metadata": {
        "id": "fbfce63d"
      },
      "source": [
        "### Tuples\n",
        "Tuples are static ordered collections of objects.\n",
        "Tuples are identical to lists except in the following:\n",
        "- Tuples are defined by `()`\n",
        "- Tuples are inmutable, they cannot change"
      ]
    },
    {
      "cell_type": "code",
      "execution_count": null,
      "id": "5d74f8dc",
      "metadata": {
        "id": "5d74f8dc",
        "outputId": "3f080646-c911-4a0e-aa27-c655cc7bad13"
      },
      "outputs": [
        {
          "data": {
            "text/plain": [
              "('here', 'is', 'a', 'tuple')"
            ]
          },
          "execution_count": 175,
          "metadata": {},
          "output_type": "execute_result"
        }
      ],
      "source": [
        "t = ('here', 'is', 'a', 'tuple')\n",
        "t"
      ]
    },
    {
      "cell_type": "code",
      "execution_count": null,
      "id": "6a640ad9",
      "metadata": {
        "id": "6a640ad9",
        "outputId": "5fdcb03b-0422-4c46-a555-693ef9532ef2"
      },
      "outputs": [
        {
          "data": {
            "text/plain": [
              "'here'"
            ]
          },
          "execution_count": 176,
          "metadata": {},
          "output_type": "execute_result"
        }
      ],
      "source": [
        "t[0]"
      ]
    },
    {
      "cell_type": "code",
      "execution_count": null,
      "id": "1776cf43",
      "metadata": {
        "id": "1776cf43",
        "outputId": "b3da9365-d8b1-4443-c393-bc6993ef916b"
      },
      "outputs": [
        {
          "data": {
            "text/plain": [
              "('here', 'is', 'a', 'tuple')"
            ]
          },
          "execution_count": 177,
          "metadata": {},
          "output_type": "execute_result"
        }
      ],
      "source": [
        "t[0:]"
      ]
    },
    {
      "cell_type": "code",
      "execution_count": null,
      "id": "604bf39d",
      "metadata": {
        "id": "604bf39d",
        "outputId": "8ade6296-1463-49bf-a0c3-e0dde46ed2f7"
      },
      "outputs": [
        {
          "data": {
            "text/plain": [
              "'tuple'"
            ]
          },
          "execution_count": 178,
          "metadata": {},
          "output_type": "execute_result"
        }
      ],
      "source": [
        "t[-1]"
      ]
    },
    {
      "cell_type": "code",
      "execution_count": null,
      "id": "4d9d6c44",
      "metadata": {
        "id": "4d9d6c44",
        "outputId": "b78ccfbd-b54d-4bb9-ac0f-8365f5a32911"
      },
      "outputs": [
        {
          "data": {
            "text/plain": [
              "('is', 'a')"
            ]
          },
          "execution_count": 179,
          "metadata": {},
          "output_type": "execute_result"
        }
      ],
      "source": [
        "t[1:3]"
      ]
    },
    {
      "cell_type": "code",
      "execution_count": null,
      "id": "ab2dd269",
      "metadata": {
        "id": "ab2dd269",
        "outputId": "06bb4155-4e71-4a82-a68c-acea64119494"
      },
      "outputs": [
        {
          "ename": "TypeError",
          "evalue": "'tuple' object does not support item assignment",
          "output_type": "error",
          "traceback": [
            "\u001b[1;31m---------------------------------------------------------------------------\u001b[0m",
            "\u001b[1;31mTypeError\u001b[0m                                 Traceback (most recent call last)",
            "Input \u001b[1;32mIn [180]\u001b[0m, in \u001b[0;36m<module>\u001b[1;34m\u001b[0m\n\u001b[0;32m      1\u001b[0m \u001b[38;5;66;03m# you cannot modify a tuple\u001b[39;00m\n\u001b[1;32m----> 2\u001b[0m t[\u001b[38;5;241m2\u001b[39m] \u001b[38;5;241m=\u001b[39m \u001b[38;5;124m'\u001b[39m\u001b[38;5;124mone\u001b[39m\u001b[38;5;124m'\u001b[39m\n",
            "\u001b[1;31mTypeError\u001b[0m: 'tuple' object does not support item assignment"
          ]
        }
      ],
      "source": [
        "# you cannot modify a tuple\n",
        "t[2] = 'one'"
      ]
    },
    {
      "cell_type": "markdown",
      "id": "46859bd8",
      "metadata": {
        "id": "46859bd8"
      },
      "source": [
        "Why use a tuple?\n",
        "Program execution is faster when manipulating a tuple than it is for the equivalent list. (This is probably not going to be noticeable when the list or tuple is small.)\n",
        "\n",
        "Sometimes you don’t want data to be modified. If the values in the collection are meant to remain constant for the life of the program, using a tuple instead of a list guards against accidental modification."
      ]
    },
    {
      "cell_type": "markdown",
      "id": "6f65270a",
      "metadata": {
        "id": "6f65270a"
      },
      "source": [
        "### Finally, dictionaries\n",
        "Dictionaries and lists share the following characteristics:\n",
        "\n",
        "- Both are mutable.\n",
        "- Both are dynamic. They can grow and shrink as needed.\n",
        "- Both can be nested. A list can contain another list. A dictionary can contain another dictionary. A dictionary can also contain a list, and vice versa.\n",
        "\n",
        "Dictionaries differ from lists primarily in how elements are accessed:\n",
        "\n",
        "- List elements are accessed by their position in the list, via indexing.\n",
        "- Dictionary elements are accessed via keys.\n",
        "\n",
        "`{key:value}`"
      ]
    },
    {
      "cell_type": "code",
      "execution_count": null,
      "id": "a629af63",
      "metadata": {
        "id": "a629af63",
        "outputId": "b975f04f-aff3-4a1b-a1ca-4dcd7989bed6"
      },
      "outputs": [
        {
          "data": {
            "text/plain": [
              "{'USA': 'Baseball', 'Canada': 'Hockey', 'Mexico': 'Soccer'}"
            ]
          },
          "execution_count": 181,
          "metadata": {},
          "output_type": "execute_result"
        }
      ],
      "source": [
        "d = {'USA' : 'Baseball', 'Canada' : 'Hockey', 'Mexico' : 'Soccer'}\n",
        "d"
      ]
    },
    {
      "cell_type": "code",
      "execution_count": null,
      "id": "0fb41624",
      "metadata": {
        "id": "0fb41624",
        "outputId": "6dbc1ae8-05ac-46b7-e51b-74876d293f0e"
      },
      "outputs": [
        {
          "data": {
            "text/plain": [
              "'Baseball'"
            ]
          },
          "execution_count": 182,
          "metadata": {},
          "output_type": "execute_result"
        }
      ],
      "source": [
        "# To access a value, call the dictionary key\n",
        "d['USA']"
      ]
    },
    {
      "cell_type": "code",
      "execution_count": null,
      "id": "50c3d9ac",
      "metadata": {
        "id": "50c3d9ac",
        "outputId": "0cf90fd6-4a81-43b6-eb3e-227f8c39461e"
      },
      "outputs": [
        {
          "data": {
            "text/plain": [
              "{'USA': 'Football', 'Canada': 'Hockey', 'Mexico': 'Soccer'}"
            ]
          },
          "execution_count": 184,
          "metadata": {},
          "output_type": "execute_result"
        }
      ],
      "source": [
        "# Dictionaries can be changed\n",
        "d['USA'] = 'Football'\n",
        "d"
      ]
    },
    {
      "cell_type": "code",
      "execution_count": null,
      "id": "f879a757",
      "metadata": {
        "id": "f879a757",
        "outputId": "1f1d9d35-006e-4865-fd0d-cd664dbef341"
      },
      "outputs": [
        {
          "data": {
            "text/plain": [
              "{'USA': 'Football',\n",
              " 'Canada': 'Hockey',\n",
              " 'Mexico': 'Soccer',\n",
              " 'Chile': 'Bird watching'}"
            ]
          },
          "execution_count": 185,
          "metadata": {},
          "output_type": "execute_result"
        }
      ],
      "source": [
        "# To add a new key value just assign a new one\n",
        "d['Chile'] = 'Bird watching'\n",
        "d"
      ]
    },
    {
      "cell_type": "code",
      "execution_count": null,
      "id": "2f1c3d60",
      "metadata": {
        "id": "2f1c3d60",
        "outputId": "ac2da4af-c312-4e52-bbe3-2d9f1580bca9"
      },
      "outputs": [
        {
          "data": {
            "text/plain": [
              "{'USA': 'Football', 'Canada': 'Hockey', 'Mexico': 'Soccer', 'Chile': 'Surfing'}"
            ]
          },
          "execution_count": 186,
          "metadata": {},
          "output_type": "execute_result"
        }
      ],
      "source": [
        "# Updating an entry works similarly\n",
        "d['Chile'] = 'Surfing'\n",
        "d"
      ]
    },
    {
      "cell_type": "code",
      "execution_count": null,
      "id": "7a889e3f",
      "metadata": {
        "id": "7a889e3f",
        "outputId": "bdbb132f-56e5-4c2b-ea9d-5227368f46c7"
      },
      "outputs": [
        {
          "data": {
            "text/plain": [
              "{'USA': 'Football', 'Canada': 'Hockey', 'Chile': 'Surfing'}"
            ]
          },
          "execution_count": 187,
          "metadata": {},
          "output_type": "execute_result"
        }
      ],
      "source": [
        "# To delete an element use the del statement and the key \n",
        "del d['Mexico']\n",
        "d"
      ]
    },
    {
      "cell_type": "code",
      "execution_count": null,
      "id": "0334f47c",
      "metadata": {
        "id": "0334f47c",
        "outputId": "a909b531-fe04-4edc-8808-9a78d36e14ce"
      },
      "outputs": [
        {
          "data": {
            "text/plain": [
              "{3: 'd', 2: 'c', 1: 'b', 0: 'a'}"
            ]
          },
          "execution_count": 192,
          "metadata": {},
          "output_type": "execute_result"
        }
      ],
      "source": [
        "# Integers can also be used as keys\n",
        "d2 = {3: 'd', 2: 'c', 1: 'b', 0: 'a'}\n",
        "d2"
      ]
    },
    {
      "cell_type": "code",
      "execution_count": null,
      "id": "99be702d",
      "metadata": {
        "id": "99be702d",
        "outputId": "9965333f-a60d-4286-bdaf-e95ac2c4ca93"
      },
      "outputs": [
        {
          "data": {
            "text/plain": [
              "'a'"
            ]
          },
          "execution_count": 193,
          "metadata": {},
          "output_type": "execute_result"
        }
      ],
      "source": [
        "d2[0]"
      ]
    },
    {
      "cell_type": "code",
      "execution_count": null,
      "id": "15e701ad",
      "metadata": {
        "id": "15e701ad",
        "outputId": "3a0520a0-9023-4326-935f-cdba37d851eb"
      },
      "outputs": [
        {
          "data": {
            "text/plain": [
              "{'names': ['Jon', 'Bob', 'Randy'],\n",
              " 'ages': [25, 26, 27],\n",
              " 'pets': {'dog': 'Max', 'cat': 'Butter', 'turtle': 'Speedy'}}"
            ]
          },
          "execution_count": 206,
          "metadata": {},
          "output_type": "execute_result"
        }
      ],
      "source": [
        "d3 = {}\n",
        "\n",
        "d3['names'] = ['Jon', 'Bob', 'Randy']\n",
        "d3['ages'] = [ 25, 26, 27]\n",
        "d3['pets'] = {'dog' : 'Max', 'cat' : 'Butter', 'turtle' : 'Speedy'}\n",
        "\n",
        "d3"
      ]
    },
    {
      "cell_type": "code",
      "execution_count": null,
      "id": "c944027e",
      "metadata": {
        "id": "c944027e",
        "outputId": "64e58909-56ad-4e3a-bf81-fa3bb2cd011d"
      },
      "outputs": [
        {
          "data": {
            "text/plain": [
              "'Butter'"
            ]
          },
          "execution_count": 207,
          "metadata": {},
          "output_type": "execute_result"
        }
      ],
      "source": [
        "# Access a nested dictionary value\n",
        "d3['pets']['cat']"
      ]
    },
    {
      "cell_type": "code",
      "execution_count": null,
      "id": "6b9ddfa5",
      "metadata": {
        "id": "6b9ddfa5",
        "outputId": "0de06277-dc7e-40a7-9226-8ef48938149b"
      },
      "outputs": [
        {
          "data": {
            "text/plain": [
              "27"
            ]
          },
          "execution_count": 208,
          "metadata": {},
          "output_type": "execute_result"
        }
      ],
      "source": [
        "# Access a nested list value\n",
        "d3['ages'][2]"
      ]
    },
    {
      "cell_type": "markdown",
      "id": "c7ee73a0",
      "metadata": {
        "id": "c7ee73a0"
      },
      "source": [
        "Some dictionary methods\n",
        "- keys()\n",
        "- values()\n",
        "- clear() \n",
        "- pop()"
      ]
    },
    {
      "cell_type": "code",
      "execution_count": null,
      "id": "0ead69bf",
      "metadata": {
        "id": "0ead69bf",
        "outputId": "54703306-459f-4432-ba59-9f6cb3f71fc6"
      },
      "outputs": [
        {
          "data": {
            "text/plain": [
              "dict_keys(['names', 'ages', 'pets'])"
            ]
          },
          "execution_count": 209,
          "metadata": {},
          "output_type": "execute_result"
        }
      ],
      "source": [
        "# Return keys in dictionary\n",
        "d3.keys()"
      ]
    },
    {
      "cell_type": "code",
      "execution_count": null,
      "id": "296fc747",
      "metadata": {
        "id": "296fc747",
        "outputId": "1ccaa1ae-7cff-4e3d-a97b-b2539b3a8d8e"
      },
      "outputs": [
        {
          "data": {
            "text/plain": [
              "dict_values([['Jon', 'Bob', 'Randy'], [25, 26, 27], {'dog': 'Max', 'cat': 'Butter', 'turtle': 'Speedy'}])"
            ]
          },
          "execution_count": 210,
          "metadata": {},
          "output_type": "execute_result"
        }
      ],
      "source": [
        "# Return values in dictionary\n",
        "d3.values()"
      ]
    },
    {
      "cell_type": "code",
      "execution_count": null,
      "id": "228dc067",
      "metadata": {
        "id": "228dc067",
        "outputId": "3db7c89f-b182-4214-8cde-f4cb6a4e5d51"
      },
      "outputs": [
        {
          "data": {
            "text/plain": [
              "{'dog': 'Max', 'cat': 'Butter', 'turtle': 'Speedy'}"
            ]
          },
          "execution_count": 212,
          "metadata": {},
          "output_type": "execute_result"
        }
      ],
      "source": [
        "d3.pop('pets')"
      ]
    },
    {
      "cell_type": "code",
      "execution_count": null,
      "id": "119265b0",
      "metadata": {
        "id": "119265b0",
        "outputId": "05144988-0a54-4ac6-9baa-37bb5607a784"
      },
      "outputs": [
        {
          "data": {
            "text/plain": [
              "{'names': ['Jon', 'Bob', 'Randy'], 'ages': [25, 26, 27]}"
            ]
          },
          "execution_count": 213,
          "metadata": {},
          "output_type": "execute_result"
        }
      ],
      "source": [
        "d3"
      ]
    },
    {
      "cell_type": "code",
      "execution_count": null,
      "id": "aec6f54e",
      "metadata": {
        "id": "aec6f54e",
        "outputId": "c8f7f982-8f14-40dd-a483-18832b1445f2"
      },
      "outputs": [
        {
          "data": {
            "text/plain": [
              "{}"
            ]
          },
          "execution_count": 214,
          "metadata": {},
          "output_type": "execute_result"
        }
      ],
      "source": [
        "# Clear a dictionary\n",
        "d3.clear()\n",
        "d3"
      ]
    },
    {
      "cell_type": "markdown",
      "id": "80ae6538",
      "metadata": {
        "id": "80ae6538"
      },
      "source": [
        "## Converting Data types\n",
        "- To convert to String `str()`\n",
        "- To convert to Integer `int()`\n",
        "- To convert to Float `float()`\n",
        "- To convert to Bool `bool()`"
      ]
    },
    {
      "cell_type": "code",
      "execution_count": null,
      "id": "9bb3accb",
      "metadata": {
        "id": "9bb3accb",
        "outputId": "48d80596-c159-4802-ff89-42374d4760f7"
      },
      "outputs": [
        {
          "data": {
            "text/plain": [
              "'23'"
            ]
          },
          "execution_count": 215,
          "metadata": {},
          "output_type": "execute_result"
        }
      ],
      "source": [
        "age = 23\n",
        "str(age)"
      ]
    },
    {
      "cell_type": "code",
      "execution_count": null,
      "id": "3d5febf9",
      "metadata": {
        "id": "3d5febf9",
        "outputId": "7ac98ca2-7dbf-4e0e-824c-9efdf758182e"
      },
      "outputs": [
        {
          "name": "stdout",
          "output_type": "stream",
          "text": [
            "23 years old\n"
          ]
        }
      ],
      "source": [
        "print(str(age) + \" years old\")"
      ]
    },
    {
      "cell_type": "markdown",
      "id": "74e8584c",
      "metadata": {
        "id": "74e8584c"
      },
      "source": [
        "## Exercises for participation credit\n",
        "Please complete the following exercises and upload your completed notebook to your Github repository for participation credit.\n",
        "\n",
        "We can use `input()` to catch input from the user. This is a string type variable."
      ]
    },
    {
      "cell_type": "code",
      "execution_count": null,
      "id": "311dbb98",
      "metadata": {
        "id": "311dbb98",
        "outputId": "2d57248c-3c5b-48fb-9140-9c511f07d98e"
      },
      "outputs": [
        {
          "name": "stdout",
          "output_type": "stream",
          "text": [
            "Enter your value 6\n",
            "6\n"
          ]
        }
      ],
      "source": [
        "x = input('Enter your value ')\n",
        "print(x)"
      ]
    },
    {
      "cell_type": "markdown",
      "id": "d21d74a0",
      "metadata": {
        "id": "d21d74a0"
      },
      "source": [
        "1. Write a code that gets two integers from the user. Save the first input as `a` and the second value as `b`. Run and print the following operations:\n",
        " - a + b\n",
        " - a - b\n",
        " - a * b\n",
        " - a ** b\n",
        " - a / b"
      ]
    },
    {
      "cell_type": "markdown",
      "id": "c9cf9f05",
      "metadata": {
        "id": "c9cf9f05"
      },
      "source": [
        "2. Reverse this list aList = [100, 200, 300, 400, 500]. Expected result = [500, 400, 300, 200, 100]"
      ]
    },
    {
      "cell_type": "markdown",
      "id": "7793dda3",
      "metadata": {
        "id": "7793dda3"
      },
      "source": [
        "3. Create the following list ` ['My', 'name', 'is', 'Kelly']`\n",
        "\n",
        "Using only these two lists:\n",
        "- `list1 = [\"M\", \"na\", \"i\", \"Ke\"]` \n",
        "- `list2 = [\"y\", \"me\", \"s\", \"lly\"]`"
      ]
    },
    {
      "cell_type": "markdown",
      "id": "e9f296ee",
      "metadata": {
        "id": "e9f296ee"
      },
      "source": [
        "4. Split the following list in 3 equal sized lists. Invert the the new lists\n",
        "- Original list [11, 45, 8, 23, 14, 12, 78, 45, 89]\n",
        "\n",
        "\n",
        "- Chunk 1 [11, 45, 8]\n",
        "\n",
        "After reversing it [8, 45, 11]\n",
        "\n",
        "- Chunk 2 [23, 14, 12]\n",
        "\n",
        "After reversing it [12, 14, 23]\n",
        "\n",
        "- Chunk 3 [78, 45, 89]\n",
        "\n",
        "After reversing it [89, 45, 78]"
      ]
    },
    {
      "cell_type": "code",
      "execution_count": null,
      "id": "b02e2848",
      "metadata": {
        "colab": {
          "base_uri": "https://localhost:8080/"
        },
        "id": "b02e2848",
        "outputId": "5df2aa80-342a-4247-eedd-b537f3ab0d6d"
      },
      "outputs": [
        {
          "output_type": "stream",
          "name": "stdout",
          "text": [
            "5\n"
          ]
        }
      ],
      "source": [
        "a = 5\n",
        "print (a)"
      ]
    },
    {
      "cell_type": "code",
      "source": [
        "b = 2 \n",
        "print (b)"
      ],
      "metadata": {
        "colab": {
          "base_uri": "https://localhost:8080/"
        },
        "id": "d194ROsdTV2P",
        "outputId": "d305c1ff-a857-4e1f-dda5-11b9b2c68284"
      },
      "id": "d194ROsdTV2P",
      "execution_count": null,
      "outputs": [
        {
          "output_type": "stream",
          "name": "stdout",
          "text": [
            "2\n"
          ]
        }
      ]
    },
    {
      "cell_type": "code",
      "source": [
        "a + b"
      ],
      "metadata": {
        "colab": {
          "base_uri": "https://localhost:8080/"
        },
        "id": "uly95AsvTcyI",
        "outputId": "f0e0cb0b-718d-4d96-8be3-d41cfd610a07"
      },
      "id": "uly95AsvTcyI",
      "execution_count": null,
      "outputs": [
        {
          "output_type": "execute_result",
          "data": {
            "text/plain": [
              "7"
            ]
          },
          "metadata": {},
          "execution_count": 4
        }
      ]
    },
    {
      "cell_type": "code",
      "source": [
        "a - b"
      ],
      "metadata": {
        "colab": {
          "base_uri": "https://localhost:8080/"
        },
        "id": "xNutMF8qTija",
        "outputId": "86fc730f-6b64-4a16-e7d0-caf96b0a6d20"
      },
      "id": "xNutMF8qTija",
      "execution_count": null,
      "outputs": [
        {
          "output_type": "execute_result",
          "data": {
            "text/plain": [
              "3"
            ]
          },
          "metadata": {},
          "execution_count": 5
        }
      ]
    },
    {
      "cell_type": "code",
      "source": [
        "a * b "
      ],
      "metadata": {
        "colab": {
          "base_uri": "https://localhost:8080/"
        },
        "id": "SRlY1u1ITrHF",
        "outputId": "95a89494-3ecb-4e32-ee5c-b616d7304173"
      },
      "id": "SRlY1u1ITrHF",
      "execution_count": null,
      "outputs": [
        {
          "output_type": "execute_result",
          "data": {
            "text/plain": [
              "10"
            ]
          },
          "metadata": {},
          "execution_count": 6
        }
      ]
    },
    {
      "cell_type": "code",
      "source": [
        "a ** b "
      ],
      "metadata": {
        "colab": {
          "base_uri": "https://localhost:8080/"
        },
        "id": "imaDpYgUuUvs",
        "outputId": "d929a968-c3fb-4a44-f799-dc02ed010469"
      },
      "id": "imaDpYgUuUvs",
      "execution_count": null,
      "outputs": [
        {
          "output_type": "execute_result",
          "data": {
            "text/plain": [
              "25"
            ]
          },
          "metadata": {},
          "execution_count": 7
        }
      ]
    },
    {
      "cell_type": "code",
      "source": [
        "a / b "
      ],
      "metadata": {
        "colab": {
          "base_uri": "https://localhost:8080/"
        },
        "id": "7wujvSMbuiyw",
        "outputId": "6a385489-ad08-426c-9e6d-4e147ab0eb0e"
      },
      "id": "7wujvSMbuiyw",
      "execution_count": null,
      "outputs": [
        {
          "output_type": "execute_result",
          "data": {
            "text/plain": [
              "2.5"
            ]
          },
          "metadata": {},
          "execution_count": 8
        }
      ]
    },
    {
      "cell_type": "code",
      "source": [
        "list1 = [1,2,3,4,5]\n",
        "print (list1)"
      ],
      "metadata": {
        "colab": {
          "base_uri": "https://localhost:8080/"
        },
        "id": "G0yP6M75u-JT",
        "outputId": "238fdba8-c7c8-41e7-b0ad-4830061674a4"
      },
      "id": "G0yP6M75u-JT",
      "execution_count": null,
      "outputs": [
        {
          "output_type": "stream",
          "name": "stdout",
          "text": [
            "[1, 2, 3, 4, 5]\n"
          ]
        }
      ]
    },
    {
      "cell_type": "code",
      "source": [
        "list1 [::-1]"
      ],
      "metadata": {
        "colab": {
          "base_uri": "https://localhost:8080/"
        },
        "id": "RWv_-Fw9u-xV",
        "outputId": "07cf0b83-3291-4223-98bd-a2edbf490f0f"
      },
      "id": "RWv_-Fw9u-xV",
      "execution_count": null,
      "outputs": [
        {
          "output_type": "execute_result",
          "data": {
            "text/plain": [
              "[5, 4, 3, 2, 1]"
            ]
          },
          "metadata": {},
          "execution_count": 55
        }
      ]
    },
    {
      "cell_type": "code",
      "source": [
        "name1 = [\"M\", \"na\", \"i\", \"Ke\"]\n",
        "name2 = [\"y\", \"me\", \"s\", \"lly\"]\n",
        "print (name1)\n",
        "print (name2)"
      ],
      "metadata": {
        "colab": {
          "base_uri": "https://localhost:8080/"
        },
        "id": "vURJlpl9u_LX",
        "outputId": "60eb657d-c1b6-411b-b290-70e303a5bdf6"
      },
      "id": "vURJlpl9u_LX",
      "execution_count": null,
      "outputs": [
        {
          "output_type": "stream",
          "name": "stdout",
          "text": [
            "['M', 'na', 'i', 'Ke']\n",
            "['y', 'me', 's', 'lly']\n"
          ]
        }
      ]
    },
    {
      "cell_type": "code",
      "source": [
        "name1 [0] + name2 [0] , name1 [1] + name2 [1] , name1 [2] + name2 [2], name1 [3] + name2 [3]"
      ],
      "metadata": {
        "colab": {
          "base_uri": "https://localhost:8080/"
        },
        "id": "zTk4ZVk7wq8n",
        "outputId": "36d32c82-8f72-4013-b87a-485c9336a9ab"
      },
      "id": "zTk4ZVk7wq8n",
      "execution_count": null,
      "outputs": [
        {
          "output_type": "execute_result",
          "data": {
            "text/plain": [
              "('My', 'name', 'is', 'Kelly')"
            ]
          },
          "metadata": {},
          "execution_count": 69
        }
      ]
    },
    {
      "cell_type": "code",
      "source": [
        "Oglist = [11, 45, 8, 23, 14, 12, 78, 45, 89]\n",
        "pt1 = [11,45,8]\n",
        "pt2 = [23,14,12]\n",
        "pt3 = [78,45,89]"
      ],
      "metadata": {
        "id": "gUIhQjKHzGLH"
      },
      "id": "gUIhQjKHzGLH",
      "execution_count": null,
      "outputs": []
    },
    {
      "cell_type": "code",
      "source": [
        "pt1 [::-1]"
      ],
      "metadata": {
        "colab": {
          "base_uri": "https://localhost:8080/"
        },
        "id": "Jk1PrOoOzu6E",
        "outputId": "fac885d3-da8b-4f41-d614-acd2e1911d8b"
      },
      "id": "Jk1PrOoOzu6E",
      "execution_count": null,
      "outputs": [
        {
          "output_type": "execute_result",
          "data": {
            "text/plain": [
              "[8, 45, 11]"
            ]
          },
          "metadata": {},
          "execution_count": 73
        }
      ]
    },
    {
      "cell_type": "code",
      "source": [
        "pt2 [::-1]"
      ],
      "metadata": {
        "colab": {
          "base_uri": "https://localhost:8080/"
        },
        "id": "PZ6Je-tY0AN9",
        "outputId": "7f6f7f90-6c89-42fd-e015-7bef70648f2d"
      },
      "id": "PZ6Je-tY0AN9",
      "execution_count": null,
      "outputs": [
        {
          "output_type": "execute_result",
          "data": {
            "text/plain": [
              "[12, 14, 23]"
            ]
          },
          "metadata": {},
          "execution_count": 74
        }
      ]
    },
    {
      "cell_type": "code",
      "source": [
        "pt3 [::-1]"
      ],
      "metadata": {
        "colab": {
          "base_uri": "https://localhost:8080/"
        },
        "id": "KMJ-tQQ_0ENy",
        "outputId": "905ba557-188d-4cf7-afd2-5f52020bed58"
      },
      "id": "KMJ-tQQ_0ENy",
      "execution_count": null,
      "outputs": [
        {
          "output_type": "execute_result",
          "data": {
            "text/plain": [
              "[89, 45, 78]"
            ]
          },
          "metadata": {},
          "execution_count": 75
        }
      ]
    }
  ],
  "metadata": {
    "kernelspec": {
      "display_name": "Python 3 (ipykernel)",
      "language": "python",
      "name": "python3"
    },
    "language_info": {
      "codemirror_mode": {
        "name": "ipython",
        "version": 3
      },
      "file_extension": ".py",
      "mimetype": "text/x-python",
      "name": "python",
      "nbconvert_exporter": "python",
      "pygments_lexer": "ipython3",
      "version": "3.10.4"
    },
    "colab": {
      "name": "Lesson 1 - Python basics.ipynb",
      "provenance": []
    }
  },
  "nbformat": 4,
  "nbformat_minor": 5
}